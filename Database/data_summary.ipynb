{
 "cells": [
  {
   "metadata": {},
   "cell_type": "markdown",
   "source": "# Podsumowanie danych",
   "id": "5fbf6ff7b823e1a"
  },
  {
   "metadata": {
    "ExecuteTime": {
     "end_time": "2025-01-08T23:10:58.978281Z",
     "start_time": "2025-01-08T23:10:58.573058Z"
    }
   },
   "cell_type": "code",
   "source": "import pandas as pd",
   "id": "edff534b6c9a2b7c",
   "outputs": [],
   "execution_count": 3
  },
  {
   "metadata": {
    "ExecuteTime": {
     "end_time": "2025-01-08T23:10:53.375906Z",
     "start_time": "2025-01-08T23:10:53.373333Z"
    }
   },
   "cell_type": "code",
   "source": [
    "train_path = \"./datasets/train.csv\"\n",
    "test_path = \"./datasets/test.csv\""
   ],
   "id": "c870bfc198123afa",
   "outputs": [],
   "execution_count": 1
  },
  {
   "metadata": {
    "ExecuteTime": {
     "end_time": "2025-01-08T23:11:35.544379Z",
     "start_time": "2025-01-08T23:11:35.491929Z"
    }
   },
   "cell_type": "code",
   "source": [
    "train_data = pd.read_csv(train_path)\n",
    "print(train_data.info())"
   ],
   "id": "7567379ab2b106cf",
   "outputs": [
    {
     "name": "stdout",
     "output_type": "stream",
     "text": [
      "<class 'pandas.core.frame.DataFrame'>\n",
      "RangeIndex: 7658 entries, 0 to 7657\n",
      "Data columns (total 89 columns):\n",
      " #   Column                      Non-Null Count  Dtype  \n",
      "---  ------                      --------------  -----  \n",
      " 0   url                         7658 non-null   object \n",
      " 1   length_url                  7658 non-null   int64  \n",
      " 2   length_hostname             7658 non-null   int64  \n",
      " 3   ip                          7658 non-null   int64  \n",
      " 4   nb_dots                     7658 non-null   int64  \n",
      " 5   nb_hyphens                  7658 non-null   int64  \n",
      " 6   nb_at                       7658 non-null   int64  \n",
      " 7   nb_qm                       7658 non-null   int64  \n",
      " 8   nb_and                      7658 non-null   int64  \n",
      " 9   nb_or                       7658 non-null   int64  \n",
      " 10  nb_eq                       7658 non-null   int64  \n",
      " 11  nb_underscore               7658 non-null   int64  \n",
      " 12  nb_tilde                    7658 non-null   int64  \n",
      " 13  nb_percent                  7658 non-null   int64  \n",
      " 14  nb_slash                    7658 non-null   int64  \n",
      " 15  nb_star                     7658 non-null   int64  \n",
      " 16  nb_colon                    7658 non-null   int64  \n",
      " 17  nb_comma                    7658 non-null   int64  \n",
      " 18  nb_semicolumn               7658 non-null   int64  \n",
      " 19  nb_dollar                   7658 non-null   int64  \n",
      " 20  nb_space                    7658 non-null   int64  \n",
      " 21  nb_www                      7658 non-null   int64  \n",
      " 22  nb_com                      7658 non-null   int64  \n",
      " 23  nb_dslash                   7658 non-null   int64  \n",
      " 24  http_in_path                7658 non-null   int64  \n",
      " 25  https_token                 7658 non-null   int64  \n",
      " 26  ratio_digits_url            7658 non-null   float64\n",
      " 27  ratio_digits_host           7658 non-null   float64\n",
      " 28  punycode                    7658 non-null   int64  \n",
      " 29  port                        7658 non-null   int64  \n",
      " 30  tld_in_path                 7658 non-null   int64  \n",
      " 31  tld_in_subdomain            7658 non-null   int64  \n",
      " 32  abnormal_subdomain          7658 non-null   int64  \n",
      " 33  nb_subdomains               7658 non-null   int64  \n",
      " 34  prefix_suffix               7658 non-null   int64  \n",
      " 35  random_domain               7658 non-null   int64  \n",
      " 36  shortening_service          7658 non-null   int64  \n",
      " 37  path_extension              7658 non-null   int64  \n",
      " 38  nb_redirection              7658 non-null   int64  \n",
      " 39  nb_external_redirection     7658 non-null   int64  \n",
      " 40  length_words_raw            7658 non-null   int64  \n",
      " 41  char_repeat                 7658 non-null   int64  \n",
      " 42  shortest_words_raw          7658 non-null   int64  \n",
      " 43  shortest_word_host          7658 non-null   int64  \n",
      " 44  shortest_word_path          7658 non-null   int64  \n",
      " 45  longest_words_raw           7658 non-null   int64  \n",
      " 46  longest_word_host           7658 non-null   int64  \n",
      " 47  longest_word_path           7658 non-null   int64  \n",
      " 48  avg_words_raw               7658 non-null   float64\n",
      " 49  avg_word_host               7658 non-null   float64\n",
      " 50  avg_word_path               7658 non-null   float64\n",
      " 51  phish_hints                 7658 non-null   int64  \n",
      " 52  domain_in_brand             7658 non-null   int64  \n",
      " 53  brand_in_subdomain          7658 non-null   int64  \n",
      " 54  brand_in_path               7658 non-null   int64  \n",
      " 55  suspecious_tld              7658 non-null   int64  \n",
      " 56  statistical_report          7658 non-null   int64  \n",
      " 57  nb_hyperlinks               7658 non-null   int64  \n",
      " 58  ratio_intHyperlinks         7658 non-null   float64\n",
      " 59  ratio_extHyperlinks         7658 non-null   float64\n",
      " 60  ratio_nullHyperlinks        7658 non-null   int64  \n",
      " 61  nb_extCSS                   7658 non-null   int64  \n",
      " 62  ratio_intRedirection        7658 non-null   int64  \n",
      " 63  ratio_extRedirection        7658 non-null   float64\n",
      " 64  ratio_intErrors             7658 non-null   int64  \n",
      " 65  ratio_extErrors             7658 non-null   float64\n",
      " 66  login_form                  7658 non-null   int64  \n",
      " 67  external_favicon            7658 non-null   int64  \n",
      " 68  links_in_tags               7658 non-null   float64\n",
      " 69  submit_email                7658 non-null   int64  \n",
      " 70  ratio_intMedia              7658 non-null   float64\n",
      " 71  ratio_extMedia              7658 non-null   float64\n",
      " 72  sfh                         7658 non-null   int64  \n",
      " 73  iframe                      7658 non-null   int64  \n",
      " 74  popup_window                7658 non-null   int64  \n",
      " 75  safe_anchor                 7658 non-null   float64\n",
      " 76  onmouseover                 7658 non-null   int64  \n",
      " 77  right_clic                  7658 non-null   int64  \n",
      " 78  empty_title                 7658 non-null   int64  \n",
      " 79  domain_in_title             7658 non-null   int64  \n",
      " 80  domain_with_copyright       7658 non-null   int64  \n",
      " 81  whois_registered_domain     7658 non-null   int64  \n",
      " 82  domain_registration_length  7658 non-null   int64  \n",
      " 83  domain_age                  7658 non-null   int64  \n",
      " 84  web_traffic                 7658 non-null   int64  \n",
      " 85  dns_record                  7658 non-null   int64  \n",
      " 86  google_index                7658 non-null   int64  \n",
      " 87  page_rank                   7658 non-null   int64  \n",
      " 88  status                      7658 non-null   object \n",
      "dtypes: float64(13), int64(74), object(2)\n",
      "memory usage: 5.2+ MB\n",
      "None\n"
     ]
    }
   ],
   "execution_count": 7
  },
  {
   "metadata": {},
   "cell_type": "code",
   "outputs": [],
   "execution_count": null,
   "source": [
    "test_data = pd.read_csv(test_path)\n",
    "print(test_data.info())"
   ],
   "id": "f44c19d8c5e55cf8"
  }
 ],
 "metadata": {
  "kernelspec": {
   "display_name": "Python 3",
   "language": "python",
   "name": "python3"
  },
  "language_info": {
   "codemirror_mode": {
    "name": "ipython",
    "version": 2
   },
   "file_extension": ".py",
   "mimetype": "text/x-python",
   "name": "python",
   "nbconvert_exporter": "python",
   "pygments_lexer": "ipython2",
   "version": "2.7.6"
  }
 },
 "nbformat": 4,
 "nbformat_minor": 5
}
